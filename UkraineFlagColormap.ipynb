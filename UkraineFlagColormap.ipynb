{
  "nbformat": 4,
  "nbformat_minor": 0,
  "metadata": {
    "colab": {
      "name": "UkraineFlagColormap.ipynb",
      "provenance": []
    },
    "kernelspec": {
      "name": "python3",
      "display_name": "Python 3"
    },
    "language_info": {
      "name": "python"
    }
  },
  "cells": [
    {
      "cell_type": "markdown",
      "source": [
        "Create a custom colormap using the Ukraine flag colors \n",
        "(I added white to increase visibility)\n",
        " \n",
        "Feel free to adapt the code as you like!\n",
        "\n",
        "sincxpress.com"
      ],
      "metadata": {
        "id": "EwXJfIDlMf_s"
      }
    },
    {
      "cell_type": "code",
      "execution_count": null,
      "metadata": {
        "id": "bRE9Jjcd9hzi"
      },
      "outputs": [],
      "source": [
        "import numpy as np\n",
        "from scipy import interpolate\n",
        "import matplotlib.pyplot as plt\n",
        "from matplotlib.colors import ListedColormap\n",
        "\n",
        "# specify colors in RGB codes\n",
        "b = [   0, 87,184 ]\n",
        "w = [ 255,255,255 ]\n",
        "y = [ 254,221,  0 ]\n",
        "\n",
        "# create interpolation grid\n",
        "k = 30\n",
        "xi = np.linspace(0,1,k)\n",
        "\n",
        "# create colormap matrix\n",
        "fR = interpolate.interp1d([0,.5,1],[ b[0],w[0],y[0] ])\n",
        "fG = interpolate.interp1d([0,.5,1],[ b[1],w[1],y[1] ])\n",
        "fB = interpolate.interp1d([0,.5,1],[ b[2],w[2],y[2] ])\n",
        "\n",
        "uflag = np.stack( (fR(xi),fG(xi),fB(xi)),axis=1) / 255\n",
        "cmap = ListedColormap(uflag.tolist())\n",
        "\n",
        "# test on random data!\n",
        "plt.imshow(np.random.randn(42,42),cmap=cmap,vmin=-2,vmax=2)\n",
        "plt.colorbar()\n",
        "plt.show()"
      ]
    },
    {
      "cell_type": "code",
      "source": [
        ""
      ],
      "metadata": {
        "id": "QzJ06q_FC6dj"
      },
      "execution_count": null,
      "outputs": []
    }
  ]
}